{
 "cells": [
  {
   "cell_type": "code",
   "execution_count": null,
   "metadata": {},
   "outputs": [],
   "source": [
    "print(\"foobar ><\")"
   ]
  },
  {
   "cell_type": "code",
   "execution_count": null,
   "metadata": {},
   "outputs": [],
   "source": [
    "import numpy as np\n",
    "from datetime import datetime\n",
    "import matplotlib.pyplot as plt\n",
    "\n",
    "# Define the Mandelbrot function\n",
    "def mandelbrot(c, max_iter):\n",
    "    z = c\n",
    "    for n in range(max_iter):\n",
    "        if abs(z) > 2:\n",
    "            return n\n",
    "        z = z*z + c\n",
    "    return max_iter\n",
    "\n",
    "# Generate the Mandelbrot set\n",
    "def mandelbrot_set(xmin, xmax, ymin, ymax, width, height, max_iter):\n",
    "    r1 = np.linspace(xmin, xmax, width)\n",
    "    r2 = np.linspace(ymin, ymax, height)\n",
    "    n3 = np.empty((width, height))\n",
    "    for i in range(width):\n",
    "        for j in range(height):\n",
    "            n3[i, j] = mandelbrot(r1[i] + 1j*r2[j], max_iter)\n",
    "    return (r1, r2, n3)\n",
    "\n",
    "# Set parameters\n",
    "xmin, xmax, ymin, ymax = -2.0, 1.0, -1.5, 1.5\n",
    "width, height = 1000, 1000\n",
    "max_iter = 256\n",
    "\n",
    "# Generate and plot the Mandelbrot set\n",
    "r1, r2, n3 = mandelbrot_set(xmin, xmax, ymin, ymax, width, height, max_iter)\n",
    "plt.imshow(n3.T, extent=[xmin, xmax, ymin, ymax], cmap='hot')\n",
    "plt.colorbar()\n",
    "plt.title(\"Mandelbrot Set\")\n",
    "# Get the current time\n",
    "current_time = datetime.now().strftime(\"%Y%m%d%H%M%S\")\n",
    "\n",
    "# Save the image with the current time as the filename\n",
    "plt.savefig(f\"../data/mandelbrot_{current_time}.png\")\n",
    "\n",
    "plt.show()"
   ]
  },
  {
   "cell_type": "code",
   "execution_count": null,
   "metadata": {},
   "outputs": [],
   "source": [
    "# コンテナ上でこのコードを実行した場合このコードはコンテナには残るが、保存されない\n",
    "# root自体はマウントされていないため\n",
    "with open(\"../unremember.txt\", \"w\") as file:\n",
    "    # ファイルに内容を書き込む\n",
    "    file.write(\"Remember me....>< \\n\")\n",
    "# こっちは残る\n",
    "with open(\"../data/rememberable.txt\", \"w\") as file:\n",
    "    # ファイルに内容を書き込む\n",
    "    file.write(\"you can see from this container and volume\\n\")"
   ]
  },
  {
   "cell_type": "code",
   "execution_count": null,
   "metadata": {},
   "outputs": [],
   "source": [
    "import seaborn as sns\n",
    "# Create a sample dataset\n",
    "data = sns.load_dataset(\"iris\")\n",
    "\n",
    "# Plot the data using seaborn\n",
    "sns.pairplot(data, hue=\"species\")\n",
    "plt.show()"
   ]
  }
 ],
 "metadata": {
  "kernelspec": {
   "display_name": "Python 3",
   "language": "python",
   "name": "python3"
  },
  "language_info": {
   "codemirror_mode": {
    "name": "ipython",
    "version": 3
   },
   "file_extension": ".py",
   "mimetype": "text/x-python",
   "name": "python",
   "nbconvert_exporter": "python",
   "pygments_lexer": "ipython3",
   "version": "3.13.0"
  }
 },
 "nbformat": 4,
 "nbformat_minor": 2
}
