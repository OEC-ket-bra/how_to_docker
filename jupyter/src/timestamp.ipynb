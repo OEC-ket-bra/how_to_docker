{
 "cells": [
  {
   "cell_type": "code",
   "execution_count": 1,
   "metadata": {},
   "outputs": [],
   "source": [
    "import os\n",
    "from tqdm import tqdm\n",
    "import numpy as np\n",
    "import datetime"
   ]
  },
  {
   "cell_type": "code",
   "execution_count": 2,
   "metadata": {},
   "outputs": [],
   "source": [
    "def create_directory(path):\n",
    "    try:\n",
    "        os.makedirs(path, exist_ok=True)\n",
    "        print(f\"Directory '{path}' created successfully\")\n",
    "    except OSError as error:\n",
    "        print(f\"Error creating directory '{path}': {error}\")"
   ]
  },
  {
   "cell_type": "code",
   "execution_count": 3,
   "metadata": {},
   "outputs": [
    {
     "name": "stdout",
     "output_type": "stream",
     "text": [
      "Directory '../timestamp/2025_03_20_21_17' created successfully\n"
     ]
    }
   ],
   "source": [
    "\n",
    "# Get the current date and time\n",
    "dt_now = datetime.datetime.now()\n",
    "# Remove seconds and microseconds\n",
    "dt_now_without_seconds = dt_now.replace(second=0, microsecond=0)\n",
    "# Convert to string suitable for filenames\n",
    "filename = dt_now_without_seconds.strftime(\"%Y_%m_%d_%H_%M\")\n",
    "path_folder = f'../timestamp/{filename}'\n",
    "create_directory(path_folder)"
   ]
  },
  {
   "cell_type": "code",
   "execution_count": 4,
   "metadata": {},
   "outputs": [
    {
     "name": "stdout",
     "output_type": "stream",
     "text": [
      " /\\_/\\\n",
      "( o.o )\n",
      " > ^ <\n"
     ]
    }
   ],
   "source": [
    "print(\" /\\\\_/\\\\\")\n",
    "print(\"( o.o )\")\n",
    "print(\" > ^ <\")"
   ]
  },
  {
   "cell_type": "code",
   "execution_count": 5,
   "metadata": {},
   "outputs": [
    {
     "name": "stdout",
     "output_type": "stream",
     "text": [
      "猫のAAをPNG画像として保存しました。\n"
     ]
    }
   ],
   "source": [
    "from PIL import Image, ImageDraw, ImageFont\n",
    "\n",
    "def save_cat_aa_as_png(aa_text, filename=\"cat_aa.png\", font_size=12, background_color=\"white\", text_color=\"black\"):\n",
    "    \"\"\"猫のAAをPNG画像として保存する関数\"\"\"\n",
    "\n",
    "    # フォント設定\n",
    "    try:\n",
    "        font = ImageFont.truetype(\"arial.ttf\", font_size)  # Arialフォントを使用\n",
    "    except IOError:\n",
    "        font = ImageFont.load_default()  # Arialフォントがない場合はデフォルトフォントを使用\n",
    "\n",
    "    # AAテキストのサイズ計算\n",
    "    lines = aa_text.splitlines()\n",
    "    max_width = max(font.getlength(line) for line in lines)\n",
    "    height = len(lines) * font_size\n",
    "\n",
    "    # 画像作成\n",
    "    image = Image.new(\"RGB\", (int(max_width), height), background_color)\n",
    "    draw = ImageDraw.Draw(image)\n",
    "\n",
    "    # AAテキスト描画\n",
    "    y = 0\n",
    "    for line in lines:\n",
    "        draw.text((0, y), line, font=font, fill=text_color)\n",
    "        y += font_size\n",
    "\n",
    "    # 画像保存\n",
    "    image.save(filename)\n",
    "\n",
    "# 猫のAA\n",
    "cat_aa = \"\"\"\n",
    " /\\\\_/\\\\\n",
    "( o.o )\n",
    " > ^ <\n",
    "\"\"\"\n",
    "\n",
    "# PNG画像として保存\n",
    "save_cat_aa_as_png(cat_aa, filename = f\"{path_folder}/cat_aa.png\")\n",
    "print(\"猫のAAをPNG画像として保存しました。\")\n"
   ]
  },
  {
   "cell_type": "code",
   "execution_count": 6,
   "metadata": {},
   "outputs": [
    {
     "name": "stdout",
     "output_type": "stream",
     "text": [
      "別の猫のAAをPNG画像として保存しました。\n"
     ]
    }
   ],
   "source": [
    "\n",
    "#別のAAを保存\n",
    "cat_aa2 = \"\"\"\n",
    " /\\\\_/\\\\\n",
    "( =^w^= )\n",
    " (  )  )\n",
    " (  )  )\n",
    "(___)__)\n",
    "\"\"\"\n",
    "save_cat_aa_as_png(cat_aa2, filename = f\"{path_folder}/cat_aa2.png\", font_size=20, background_color=\"lightblue\", text_color=\"darkblue\")\n",
    "print(\"別の猫のAAをPNG画像として保存しました。\")"
   ]
  }
 ],
 "metadata": {
  "kernelspec": {
   "display_name": "base",
   "language": "python",
   "name": "python3"
  },
  "language_info": {
   "codemirror_mode": {
    "name": "ipython",
    "version": 3
   },
   "file_extension": ".py",
   "mimetype": "text/x-python",
   "name": "python",
   "nbconvert_exporter": "python",
   "pygments_lexer": "ipython3",
   "version": "3.11.3"
  }
 },
 "nbformat": 4,
 "nbformat_minor": 2
}
